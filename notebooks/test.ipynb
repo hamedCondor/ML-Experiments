{
 "cells": [
  {
   "cell_type": "code",
   "execution_count": 1,
   "id": "c161ef9f-3007-4c72-85ae-63c26b2a196f",
   "metadata": {},
   "outputs": [],
   "source": [
    "import pandas as pd\n",
    "import numpy as np"
   ]
  },
  {
   "cell_type": "code",
   "execution_count": 2,
   "id": "ca6707bb-6e84-409f-8134-eb92898dbc82",
   "metadata": {},
   "outputs": [],
   "source": [
    "ar = np.random.randint(1, 2000, (10,5))"
   ]
  },
  {
   "cell_type": "code",
   "execution_count": 3,
   "id": "e03728c5-2a50-4416-917a-55d6712c0ae1",
   "metadata": {},
   "outputs": [
    {
     "data": {
      "text/plain": [
       "array([[  12, 1365, 1994,  542,   42],\n",
       "       [1642, 1140,  253, 1478, 1655],\n",
       "       [1833, 1668,  165, 1939,  292],\n",
       "       [1828, 1158, 1460,  135, 1506],\n",
       "       [1848,  625, 1254, 1097,  631],\n",
       "       [1664, 1708,  149,  327, 1779],\n",
       "       [1913, 1261, 1959, 1595, 1318],\n",
       "       [1614,  753,   73,   61, 1284],\n",
       "       [ 614,   30, 1216, 1323,  672],\n",
       "       [1428,  782,  388,  872,  557]])"
      ]
     },
     "execution_count": 3,
     "metadata": {},
     "output_type": "execute_result"
    }
   ],
   "source": [
    "ar"
   ]
  },
  {
   "cell_type": "code",
   "execution_count": 4,
   "id": "c6e950ce-62ec-447a-8d5d-9f41ee5c1ac6",
   "metadata": {},
   "outputs": [
    {
     "data": {
      "text/html": [
       "<div>\n",
       "<style scoped>\n",
       "    .dataframe tbody tr th:only-of-type {\n",
       "        vertical-align: middle;\n",
       "    }\n",
       "\n",
       "    .dataframe tbody tr th {\n",
       "        vertical-align: top;\n",
       "    }\n",
       "\n",
       "    .dataframe thead th {\n",
       "        text-align: right;\n",
       "    }\n",
       "</style>\n",
       "<table border=\"1\" class=\"dataframe\">\n",
       "  <thead>\n",
       "    <tr style=\"text-align: right;\">\n",
       "      <th></th>\n",
       "      <th>0</th>\n",
       "      <th>1</th>\n",
       "      <th>2</th>\n",
       "      <th>3</th>\n",
       "      <th>4</th>\n",
       "    </tr>\n",
       "  </thead>\n",
       "  <tbody>\n",
       "    <tr>\n",
       "      <th>0</th>\n",
       "      <td>12</td>\n",
       "      <td>1365</td>\n",
       "      <td>1994</td>\n",
       "      <td>542</td>\n",
       "      <td>42</td>\n",
       "    </tr>\n",
       "    <tr>\n",
       "      <th>1</th>\n",
       "      <td>1642</td>\n",
       "      <td>1140</td>\n",
       "      <td>253</td>\n",
       "      <td>1478</td>\n",
       "      <td>1655</td>\n",
       "    </tr>\n",
       "    <tr>\n",
       "      <th>2</th>\n",
       "      <td>1833</td>\n",
       "      <td>1668</td>\n",
       "      <td>165</td>\n",
       "      <td>1939</td>\n",
       "      <td>292</td>\n",
       "    </tr>\n",
       "    <tr>\n",
       "      <th>3</th>\n",
       "      <td>1828</td>\n",
       "      <td>1158</td>\n",
       "      <td>1460</td>\n",
       "      <td>135</td>\n",
       "      <td>1506</td>\n",
       "    </tr>\n",
       "    <tr>\n",
       "      <th>4</th>\n",
       "      <td>1848</td>\n",
       "      <td>625</td>\n",
       "      <td>1254</td>\n",
       "      <td>1097</td>\n",
       "      <td>631</td>\n",
       "    </tr>\n",
       "    <tr>\n",
       "      <th>5</th>\n",
       "      <td>1664</td>\n",
       "      <td>1708</td>\n",
       "      <td>149</td>\n",
       "      <td>327</td>\n",
       "      <td>1779</td>\n",
       "    </tr>\n",
       "    <tr>\n",
       "      <th>6</th>\n",
       "      <td>1913</td>\n",
       "      <td>1261</td>\n",
       "      <td>1959</td>\n",
       "      <td>1595</td>\n",
       "      <td>1318</td>\n",
       "    </tr>\n",
       "    <tr>\n",
       "      <th>7</th>\n",
       "      <td>1614</td>\n",
       "      <td>753</td>\n",
       "      <td>73</td>\n",
       "      <td>61</td>\n",
       "      <td>1284</td>\n",
       "    </tr>\n",
       "    <tr>\n",
       "      <th>8</th>\n",
       "      <td>614</td>\n",
       "      <td>30</td>\n",
       "      <td>1216</td>\n",
       "      <td>1323</td>\n",
       "      <td>672</td>\n",
       "    </tr>\n",
       "    <tr>\n",
       "      <th>9</th>\n",
       "      <td>1428</td>\n",
       "      <td>782</td>\n",
       "      <td>388</td>\n",
       "      <td>872</td>\n",
       "      <td>557</td>\n",
       "    </tr>\n",
       "  </tbody>\n",
       "</table>\n",
       "</div>"
      ],
      "text/plain": [
       "      0     1     2     3     4\n",
       "0    12  1365  1994   542    42\n",
       "1  1642  1140   253  1478  1655\n",
       "2  1833  1668   165  1939   292\n",
       "3  1828  1158  1460   135  1506\n",
       "4  1848   625  1254  1097   631\n",
       "5  1664  1708   149   327  1779\n",
       "6  1913  1261  1959  1595  1318\n",
       "7  1614   753    73    61  1284\n",
       "8   614    30  1216  1323   672\n",
       "9  1428   782   388   872   557"
      ]
     },
     "execution_count": 4,
     "metadata": {},
     "output_type": "execute_result"
    }
   ],
   "source": [
    "df = pd.DataFrame(data=ar)\n",
    "df"
   ]
  },
  {
   "cell_type": "code",
   "execution_count": 6,
   "id": "3a95d6a0-8344-4922-8e28-02cd7482a3e5",
   "metadata": {},
   "outputs": [],
   "source": [
    "df.to_csv(\"../data/test.csv\", index=False)"
   ]
  },
  {
   "cell_type": "code",
   "execution_count": null,
   "id": "c980ab50-d564-4206-ae27-b80e26c23f1c",
   "metadata": {},
   "outputs": [],
   "source": []
  }
 ],
 "metadata": {
  "kernelspec": {
   "display_name": "Python 3 (ipykernel)",
   "language": "python",
   "name": "python3"
  },
  "language_info": {
   "codemirror_mode": {
    "name": "ipython",
    "version": 3
   },
   "file_extension": ".py",
   "mimetype": "text/x-python",
   "name": "python",
   "nbconvert_exporter": "python",
   "pygments_lexer": "ipython3",
   "version": "3.8.20"
  }
 },
 "nbformat": 4,
 "nbformat_minor": 5
}
